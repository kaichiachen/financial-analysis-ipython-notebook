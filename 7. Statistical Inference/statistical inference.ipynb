{
 "cells": [
  {
   "cell_type": "markdown",
   "metadata": {
    "collapsed": true
   },
   "source": [
    "## 推斷統計學"
   ]
  },
  {
   "cell_type": "code",
   "execution_count": 1,
   "metadata": {
    "collapsed": true
   },
   "outputs": [],
   "source": [
    "import numpy as np\n",
    "import numpy.random as npr\n",
    "import matplotlib.pyplot as plt\n",
    "%matplotlib inline"
   ]
  },
  {
   "cell_type": "code",
   "execution_count": 3,
   "metadata": {
    "collapsed": false
   },
   "outputs": [
    {
     "data": {
      "text/plain": [
       "array([ 0.6907394 ,  0.85988468,  0.03376925,  0.14003248,  0.5838152 ,\n",
       "        0.19751347,  0.27111784,  0.40516806,  0.93488549,  0.48057258])"
      ]
     },
     "execution_count": 3,
     "metadata": {},
     "output_type": "execute_result"
    }
   ],
   "source": [
    "npr.rand(10) # 生成10個0到1的隨機數"
   ]
  },
  {
   "cell_type": "code",
   "execution_count": 5,
   "metadata": {
    "collapsed": false
   },
   "outputs": [
    {
     "data": {
      "text/plain": [
       "array([[ 0.86776064,  0.74760158,  0.53640466,  0.31868206,  0.45319608],\n",
       "       [ 0.82408445,  0.38530196,  0.67230098,  0.0322784 ,  0.28653921],\n",
       "       [ 0.95668494,  0.57403335,  0.91865933,  0.14879085,  0.62696716],\n",
       "       [ 0.98399922,  0.91692583,  0.3288623 ,  0.40354926,  0.30535244],\n",
       "       [ 0.46067938,  0.80502182,  0.87839476,  0.67399529,  0.61919327]])"
      ]
     },
     "execution_count": 5,
     "metadata": {},
     "output_type": "execute_result"
    }
   ],
   "source": [
    "npr.rand(5,5)"
   ]
  },
  {
   "cell_type": "code",
   "execution_count": 7,
   "metadata": {
    "collapsed": false
   },
   "outputs": [
    {
     "data": {
      "text/plain": [
       "array([ 9.37876861,  8.27645616,  8.80601326,  5.69464678,  5.3812921 ,\n",
       "        5.20531005,  6.14717022,  9.64645545,  9.12315473,  9.25393439])"
      ]
     },
     "execution_count": 7,
     "metadata": {},
     "output_type": "execute_result"
    }
   ],
   "source": [
    "# 生成10個從5到10的隨機數\n",
    "a = 5\n",
    "b = 10\n",
    "npr.rand(10) * (b-a) + a"
   ]
  },
  {
   "cell_type": "markdown",
   "metadata": {},
   "source": [
    "我們可視化如下分布的隨機數\n",
    "1. 均值為0, 標準差為1的標準常態分佈\n",
    "2. 均值為1000, 標準差為20的常態分佈\n",
    "3. 自由度為0.5的卡方分佈\n",
    "4. lambda值為1的普瓦松分佈"
   ]
  },
  {
   "cell_type": "code",
   "execution_count": 8,
   "metadata": {
    "collapsed": true
   },
   "outputs": [],
   "source": [
    "sample_size = 500\n",
    "rn1 = npr.standard_normal(sample_size)\n",
    "rn2 = npr.normal(100, 20, sample_size)\n",
    "rn3 = npr.chisquare(df=0.5, size=sample_size)\n",
    "rn4 = npr.poisson(lam=1.0, size=sample_size)"
   ]
  },
  {
   "cell_type": "code",
   "execution_count": 15,
   "metadata": {
    "collapsed": false
   },
   "outputs": [
    {
     "data": {
      "image/png": "[encoded data removed]",
      "text/plain": [
       "<matplotlib.figure.Figure at 0x10df47c50>"
      ]
     },
     "metadata": {},
     "output_type": "display_data"
    }
   ],
   "source": [
    "fig, ((ax1, ax2), (ax3, ax4)) = plt.subplots(nrows=2,ncols=2,figsize=(7, 7))\n",
    "ax1.hist(rn1, bins=25)\n",
    "ax1.set_title('standard_normal')\n",
    "ax1.set_ylabel('frequency')\n",
    "ax1.grid(True)\n",
    "ax2.hist(rn2, bins=25)\n",
    "ax2.set_title('normal(100, 20)')\n",
    "ax2.set_ylabel('frequency')\n",
    "ax2.grid(True)\n",
    "ax3.hist(rn3, bins=25)\n",
    "ax3.set_title('chi square')\n",
    "ax3.set_ylabel('frequency')\n",
    "ax3.grid(True)\n",
    "ax4.hist(rn4, bins=25)\n",
    "ax4.set_title('Poisson')\n",
    "ax3.set_ylabel('frequency')\n",
    "ax4.grid(True)"
   ]
  }
 ],
 "metadata": {
  "kernelspec": {
   "display_name": "Python 3",
   "language": "python",
   "name": "python3"
  },
  "language_info": {
   "codemirror_mode": {
    "name": "ipython",
    "version": 3
   },
   "file_extension": ".py",
   "mimetype": "text/x-python",
   "name": "python",
   "nbconvert_exporter": "python",
   "pygments_lexer": "ipython3",
   "version": "3.4.2"
  }
 },
 "nbformat": 4,
 "nbformat_minor": 0
}
